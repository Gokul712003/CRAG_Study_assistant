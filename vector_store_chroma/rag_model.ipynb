{
 "cells": [
  {
   "cell_type": "code",
   "execution_count": 1,
   "metadata": {},
   "outputs": [
    {
     "name": "stderr",
     "output_type": "stream",
     "text": [
      "d:\\Conda\\envs\\langchain\\lib\\site-packages\\tqdm\\auto.py:21: TqdmWarning: IProgress not found. Please update jupyter and ipywidgets. See https://ipywidgets.readthedocs.io/en/stable/user_install.html\n",
      "  from .autonotebook import tqdm as notebook_tqdm\n"
     ]
    },
    {
     "data": {
      "text/plain": [
       "True"
      ]
     },
     "execution_count": 1,
     "metadata": {},
     "output_type": "execute_result"
    }
   ],
   "source": [
    "from langchain.text_splitter import RecursiveCharacterTextSplitter\n",
    "from langchain.prompts import PromptTemplate,ChatPromptTemplate\n",
    "from langchain_google_genai import GoogleGenerativeAIEmbeddings,ChatGoogleGenerativeAI\n",
    "from langchain_chroma import Chroma\n",
    "from langchain_google_genai import ChatGoogleGenerativeAI\n",
    "from langchain_nvidia_ai_endpoints import ChatNVIDIA\n",
    "from langchain_core.tools import tool\n",
    "from langchain.schema import Document\n",
    "import tqdm\n",
    "from dotenv import load_dotenv\n",
    "load_dotenv()"
   ]
  },
  {
   "cell_type": "code",
   "execution_count": 2,
   "metadata": {},
   "outputs": [],
   "source": [
    "model = ChatGoogleGenerativeAI(model='gemini-2.0-flash',temperature=0.3)"
   ]
  },
  {
   "cell_type": "code",
   "execution_count": 3,
   "metadata": {},
   "outputs": [],
   "source": [
    "from typing_extensions import TypedDict\n",
    "from typing import List, Dict, Any, Tuple, Optional,Union\n",
    "from langgraph.graph import StateGraph,START,END,MessagesState\n",
    "from langgraph.types import Literal,Command\n",
    "from langgraph.prebuilt import create_react_agent,tools_condition,tool_node\n",
    "from langgraph.checkpoint.memory import MemorySaver\n",
    "from langgraph.checkpoint.sqlite import SqliteSaver\n",
    "from langgraph.checkpoint.sqlite.aio import AsyncSqliteSaver"
   ]
  },
  {
   "cell_type": "code",
   "execution_count": 4,
   "metadata": {},
   "outputs": [],
   "source": [
    "from retriever import contextual_embedding_bm25_retriever_rerank"
   ]
  },
  {
   "cell_type": "code",
   "execution_count": null,
   "metadata": {},
   "outputs": [
    {
     "data": {
      "text/plain": [
       "[Document(metadata={'page_number': 15, 'source': 'Security Essentials in Applied AI_Unit4.pdf', 'relevance_score': 0.9841546}, page_content='Text: Security Essentials in Applied AI\\nGDPR Compliance Principles\\nImage Source:Scalefocus\\n➢ The General Data Protection Regulation (GDPR) is a data protection and privacy law in \\nthe European Union (EU).\\n➢ Its primary aim is to give individuals control over their personal data and to simplify the \\nregulatory environment for international business by unifying data protection laws \\nwithin the EU.\\nGDPR compliance principles and implementation strategies for AI Sensitivity: LNT Construction Internal Use\\nSecurity Essentials in Applied AI\\nGDPR Compliance Principles\\nData Minimization\\nImage Source: cedcoss.com\\n➢ AI systems should only collect the data \\nnecessary for their specific purpose. \\n➢ Ensure that personal data is not \\nexcessively gathered or stored beyond the \\ntime required for processing. \\n➢ Implement strategies like data \\nanonymization or pseudonymization to \\nreduce privacy risks while maintaining the \\neffectiveness of AI models.\\n\\nContext: The chunk is part of a larger document discussing Security Essentials in Applied AI, specifically focusing on compliance with data privacy regulations such as GDPR, and how AI systems can be designed to meet these regulatory requirements.'),\n",
       " Document(metadata={'page_number': 3, 'source': 'Security Essentials in Applied AI_Unit4.pdf', 'relevance_score': 0.97622}, page_content='Text: Image Source: techaheadcorp\\nRegion: European Union (EU) and European Economic Area (EEA).\\nPurpose: GDPR aims to protect the personal data and privacy of EU/EEA citizens and \\nresidents. It governs how businesses collect, store, and process personal data.\\nKey Features: Consent, Right to Access, Right to Erasure, Data Portability, Penalties\\nGDPR: General Data Protection Regulation Sensitivity: LNT Construction Internal Use\\nSecurity Essentials in Applied AI\\nKey Provisions of Major Data Privacy Regulations\\nImage Source: techaheadcorp\\nRegion: California, USA\\nPurpose: CCPA is designed to give California residents greater control over their personal \\ninformation collected by businesses.\\nKey Features: Right to Know, Right to Delete, Right to Opt-Out, Non-Discrimination\\nCCPA: California Consumer Privacy Act Sensitivity: LNT Construction Internal Use\\nSecurity Essentials in Applied AI\\nKey Provisions of Major Data Privacy Regulations\\nImage Source: techaheadcorp\\nKey data privacy laws\\n➢ GDPR\\n\\nContext: This chunk is part of a larger document discussing Security Essentials in Applied AI, specifically focusing on Compliance in Data Privacy and Cybersecurity, and outlines key provisions of major data privacy regulations such as GDPR and CCPA.'),\n",
       " Document(metadata={'page_number': 14, 'source': 'Security Essentials in Applied AI_Unit4.pdf', 'relevance_score': 0.9641868}, page_content='Text: •Ethical and Legal Risks\\n•Impact: Non-compliance with data privacy regulations can result in significant legal penalties, \\nreputational damage, and loss of consumer trust.\\n•Outcome: AI companies need to integrate legal and ethical considerations into their development \\nprocesses to avoid risks associated with misuse of personal data.\\n•Cost of Compliance\\n•Impact: Continuous monitoring, audits, and legal consultations are required to ensure ongoing \\ncompliance with privacy regulations, which can increase development and operational costs.\\n•Outcome: Budget allocation for compliance activities becomes a significant aspect of AI project \\nplanning and execution.\\nData Privacy Regulation Impact on Development and Deployment Sensitivity: LNT Construction Internal Use\\nSecurity Essentials in Applied AI\\nGDPR Compliance Principles\\nImage Source:Scalefocus\\n➢ The General Data Protection Regulation (GDPR) is a data protection and privacy law in \\nthe European Union (EU).\\n\\nContext: The chunk is situated within a section discussing the impact of data privacy regulations on AI development, specifically focusing on GDPR compliance principles and their implementation in AI projects.'),\n",
       " Document(metadata={'page_number': 27, 'source': 'Security Essentials in Applied AI_Unit1.pdf', 'relevance_score': 0.9630224}, page_content='Text: ▪ Overview:\\n✓ Enacted by the European Union to regulate data privacy and protection.\\n✓ Applies to all entities processing data of EU citizens, regardless of location.\\n▪ Key Provisions:\\n1. Right to Explanation: Individuals can request clarification on AI-driven decisions.\\n2. Data Protection: Mandates robust security measures for data handling.\\n3. Consent Requirements: Ensures individuals have control over their data.\\n▪ Impact:\\n✓ Promotes accountability in data-driven AI systems.\\n✓ Sets a global benchmark for privacy standards.\\n Sensitivity: LNT Construction Internal Use\\nIntroduction to Responsible AI Principles\\nSecurity Essentials in Applied AI\\nLegal and Ethical Frameworks for AI Governance\\n• IEEE Global Initiative on Ethics of AI\\n✓ Overview\\n• A framework developed by the Institute of Electrical and Electronics Engineers \\n(IEEE) to guide the ethical design and deployment of AI systems.\\n✓ Key Principles\\n• Human Rights\\n• Well-being\\n• Transparency\\n• Accountability\\n✓ Impact\\n\\nContext: The chunk discusses legal and ethical frameworks for AI governance, specifically focusing on the GDPR and IEEE Global Initiative on Ethics of AI, highlighting their key provisions, principles, and impact on promoting accountability and setting global benchmarks for privacy standards in AI systems.'),\n",
       " Document(metadata={'relevance_score': 0.94639885}, page_content='Text: purpose and complies with GDPR principles.\\n•Mitigate Risks: Implement safeguards like data anonymization, secure storage, and transparent \\ndecision-making processes.\\n•Consult with DPO: Collaborate with a Data Protection Officer (DPO) to review and finalize the \\nDPIA.\\nDocumentation of DPIA findings, including risk mitigation measures, to demonstrate compliance \\nand guide the development of responsible AI systems. Sensitivity: LNT Construction Internal Use\\nSecurity Essentials in Applied AI\\nGDPR-Compliant Data Processing\\nImage Source: GDPR local\\n➢ AI models can be designed to minimize the amount of personal data they process\\n➢ Design AI applications that allow users to easily give, withdraw, and understand their \\nconsent\\n➢ AI applications must implement data protection principles at every stage of \\ndevelopment and deployment\\n➢ AI systems can demonstrate GDPR compliance through regular audits, data access \\nlogs, and impact assessments\\n\\nContext: This chunk is part of a larger document discussing Security Essentials in Applied AI, specifically focusing on GDPR compliance, Data Protection Impact Assessments (DPIA), and data processing principles in AI systems.'),\n",
       " Document(metadata={'page_number': 16, 'source': 'Security Essentials in Applied AI_Unit4.pdf', 'relevance_score': 0.93451476}, page_content=\"Text: time required for processing. \\n➢ Implement strategies like data \\nanonymization or pseudonymization to \\nreduce privacy risks while maintaining the \\neffectiveness of AI models.\\nGDPR compliance principles and implementation strategies for AI Sensitivity: LNT Construction Internal Use\\nSecurity Essentials in Applied AI\\nImage Source: cedcoss.com\\n➢ AI projects must ensure transparency in \\nhow personal data is collected, processed, \\nand used.\\n➢ Inform users about their data rights, the \\nAI's decision-making processes, and how \\ntheir data is being processed\\nGDPR Compliance Principles\\nTransparency and Informed Consent\\nGDPR compliance principles and implementation strategies for AI Sensitivity: LNT Construction Internal Use\\nSecurity Essentials in Applied AI\\nImpact of Data Privacy Regulations on AI Development\\nImplementation Strategy Description\\nPrivacy by Design and by \\nDefault\\nIncorporate privacy features (data minimization, secure processing) from the start \\nof AI development.\\n\\nContext: The chunk is situated within a section of the document discussing GDPR compliance principles and implementation strategies for AI, specifically focusing on data minimization, transparency, and informed consent.\"),\n",
       " Document(metadata={'relevance_score': 0.93451476}, page_content=\"Text: time required for processing. \\n➢ Implement strategies like data \\nanonymization or pseudonymization to \\nreduce privacy risks while maintaining the \\neffectiveness of AI models.\\nGDPR compliance principles and implementation strategies for AI Sensitivity: LNT Construction Internal Use\\nSecurity Essentials in Applied AI\\nImage Source: cedcoss.com\\n➢ AI projects must ensure transparency in \\nhow personal data is collected, processed, \\nand used.\\n➢ Inform users about their data rights, the \\nAI's decision-making processes, and how \\ntheir data is being processed\\nGDPR Compliance Principles\\nTransparency and Informed Consent\\nGDPR compliance principles and implementation strategies for AI Sensitivity: LNT Construction Internal Use\\nSecurity Essentials in Applied AI\\nImpact of Data Privacy Regulations on AI Development\\nImplementation Strategy Description\\nPrivacy by Design and by \\nDefault\\nIncorporate privacy features (data minimization, secure processing) from the start \\nof AI development.\\n\\nContext: The chunk is situated within a section of the document discussing GDPR compliance principles and implementation strategies for AI, specifically focusing on data minimization, transparency, and informed consent.\"),\n",
       " Document(metadata={'page_number': 9, 'source': 'Security Essentials in Applied AI_Unit4.pdf', 'relevance_score': 0.9216402}, page_content='Text: Image Source: pideeco.be\\n➢ Data privacy regulations, such as the GDPR in the EU or CCPA in California, set strict rules \\non how personal data is collected, stored, and used.\\n➢ These laws require AI systems to ensure data protection and security, limiting the types of \\ndata that can be used for training AI models\\n➢ Non-compliance can result in significant fines.\\nCompliance with Data Protection Laws Shapes AI Data Handling Sensitivity: LNT Construction Internal Use\\nSecurity Essentials in Applied AI\\nImpact of Data Privacy Regulations on AI Development\\nImage Source:Matomo analytics\\n➢ Since many AI systems rely on vast amounts of personal data, privacy regulations limit \\naccess to sensitive information unless explicit consent is given.\\nInfluence on Data Availability and Quality for AI Training Sensitivity: LNT Construction Internal Use\\nSecurity Essentials in Applied AI\\nImpact of Data Privacy Regulations on AI Development\\nImage Source: markovml.com\\n➢ AI developers must\\n\\nContext: The chunk discusses the impact of data privacy regulations, such as GDPR and CCPA, on AI development, including limitations on data collection and usage, and the need for explicit consent.'),\n",
       " Document(metadata={'page_number': 2, 'source': 'Security Essentials in Applied AI_Unit4.pdf', 'relevance_score': 0.9073123}, page_content=\"Text: Compliance in Data Privacy and Cybersecurity\\n \\nSecurity Essentials in Applied AI Sensitivity: LNT Construction Internal Use\\nSecurity Essentials in Applied AI\\nKey Provisions of Major Data Privacy Regulations\\nImage Source: techaheadcorp\\n➢ Data privacy regulations are essential to protect individuals' personal information from \\nmisuse, unauthorized access, and breaches. \\n➢ They ensure organizations handle data responsibly and transparently, fostering trust \\nbetween consumers and businesses. \\n➢ Such regulations also mitigate risks of identity theft, fraud, and privacy violations, while \\npromoting accountability in data management.\\nData Privacy Regulations Sensitivity: LNT Construction Internal Use\\nSecurity Essentials in Applied AI\\nKey Provisions of Major Data Privacy Regulations\\nImage Source: techaheadcorp\\nRegion: European Union (EU) and European Economic Area (EEA).\\nPurpose: GDPR aims to protect the personal data and privacy of EU/EEA citizens and\\n\\nContext: This chunk is part of a larger document discussing Security Essentials in Applied AI, specifically focusing on Compliance in Data Privacy and Cybersecurity, and introduces key provisions of major data privacy regulations such as GDPR.\"),\n",
       " Document(metadata={'relevance_score': 0.89256257}, page_content='Text: making processes.\\nRegular Audits and MonitoringContinuously audit and monitor AI systems for GDPR compliance, addressing risks \\nand ensuring ongoing adherence.\\nTraining and Awareness Educate AI development teams on GDPR requirements and ethical data protection \\npractices.\\nUser Consent Management Obtain clear, informed consent from users for processing personal data, and allow \\neasy withdrawal of consent.\\nGDPR Implementation Strategies for AI Sensitivity: LNT Construction Internal Use\\nSecurity Essentials in Applied AI\\nData Protection Impact Assessments\\nImage Source:GDPR local\\n➢ A Data Protection Impact Assessment \\n(DPIA), sometimes referred to as a \\nPrivacy Impact Assessment (PIA), is a \\nprocess designed to help organizations \\nassess the impact of their data processing \\nactivities on the privacy of individuals and \\nensure that personal data is processed in \\na way that complies with data protection \\nlaws like the GDPR.\\nBasics: Sensitivity: LNT Construction Internal Use\\n\\nContext: The chunk is part of a larger document discussing Security Essentials in Applied AI, specifically focusing on GDPR compliance principles and implementation strategies for AI projects, including data protection impact assessments and user consent management.')]"
      ]
     },
     "execution_count": 6,
     "metadata": {},
     "output_type": "execute_result"
    }
   ],
   "source": [
    "# contextual_embedding_bm25_retriever_rerank.invoke(\"GDPR\")"
   ]
  },
  {
   "cell_type": "code",
   "execution_count": null,
   "metadata": {},
   "outputs": [],
   "source": [
    "from typing import List, Union\n",
    "from langchain.schema import Document\n",
    "\n",
    "@tool\n",
    "def contexual_retreiver(query: str) -> List[Union[str, Document]]:\n",
    "    \"\"\"\n",
    "    Retrieve all relevant documents with similarity threshold filtering (>50%).\n",
    "\n",
    "    Provide very large,or large detailed answers if needed.\n",
    "    The agent should try to return comprehensive context rather than short responses.\n",
    "\n",
    "    Args:\n",
    "        query (str): Search query string.\n",
    "        \n",
    "    Returns:\n",
    "        List[Union[str, Document]]: All Document objects with relevance_score > 0.5,\n",
    "                                    sorted by relevance_score in descending order,\n",
    "                                    or [\"Answer is not in Database\"] if no matches.\n",
    "        \n",
    "    Example:\n",
    "        >>> results = contexual_retreiver(\"What is edge computing architecture?\")\n",
    "        >>> for doc in results:\n",
    "        >>>     print(f\"Score: {doc.metadata['relevance_score']}\")\n",
    "        >>>     print(f\"Content: {doc.page_content}\\n\")\n",
    "    \"\"\"\n",
    "    # Get all results from the retriever using the input query as is.\n",
    "    results = contextual_embedding_bm25_retriever_rerank.invoke(query)\n",
    "    \n",
    "    #Filter results that have a relevance_score > 0.5 (i.e., >50%).\n",
    "    filtered_results = [\n",
    "        doc for doc in results \n",
    "        if doc.metadata.get('relevance_score', 0.0) > 0.5\n",
    "    ]\n",
    "    \n",
    "    # Sort the filtered results by relevance_score in descending order.\n",
    "    filtered_results.sort(\n",
    "        key=lambda x: x.metadata.get('relevance_score', 0.0),\n",
    "        reverse=True\n",
    "    )\n",
    "\n",
    "    \n",
    "    if not filtered_results:\n",
    "        return [\"Answer is not in Database\"]\n",
    "    \n",
    "    return filtered_results"
   ]
  },
  {
   "cell_type": "code",
   "execution_count": 10,
   "metadata": {},
   "outputs": [],
   "source": [
    "\n",
    "research_agent = create_react_agent(model, tools=[contexual_retreiver])"
   ]
  },
  {
   "cell_type": "code",
   "execution_count": 11,
   "metadata": {},
   "outputs": [],
   "source": [
    "response = research_agent.invoke({\"messages\":\"How to make Biriyani\"})"
   ]
  },
  {
   "cell_type": "code",
   "execution_count": 12,
   "metadata": {},
   "outputs": [
    {
     "name": "stdout",
     "output_type": "stream",
     "text": [
      "================================\u001b[1m Human Message \u001b[0m=================================\n",
      "\n",
      "How to make Biriyani\n",
      "==================================\u001b[1m Ai Message \u001b[0m==================================\n",
      "Tool Calls:\n",
      "  contexual_retreiver (4981de51-065a-47fe-9ebe-4d5658ea3125)\n",
      " Call ID: 4981de51-065a-47fe-9ebe-4d5658ea3125\n",
      "  Args:\n",
      "    query: Biriyani recipe\n",
      "=================================\u001b[1m Tool Message \u001b[0m=================================\n",
      "Name: contexual_retreiver\n",
      "\n",
      "[Document(metadata={'page_number': 88, 'source': 'Artificial_Intelligence_DL_GenAI_Unit2.pdf', 'relevance_score': 0.036083944}, page_content=\"Text: shear_range=0.2,\\n    zoom_range=0.2,\\n    horizontal_flip=True,\\n    fill_mode='nearest'\\n)\\ntest_datagen = ImageDataGenerator(rescale=1./255)\\ntrain_generator = train_datagen.flow_from_directory(\\n    data_dir + '/train',\\n    target_size=(128, 128),\\n    batch_size=32,\\n    class_mode='binary'\\n)\\ntest_generator = test_datagen.flow_from_directory(\\n    data_dir + '/test',\\n    target_size=(128, 128),\\n    batch_size=32,\\n    class_mode='binary'\\n)\\n# 2. Building the CNN Model\\nmodel = Sequential([\\n    Conv2D(32, (3, 3), activation='relu', input_shape=(128, 128, 3)),\\n    MaxPooling2D(pool_size=(2, 2)),\\n    \\n    Conv2D(64, (3, 3), activation='relu'),\\n    MaxPooling2D(pool_size=(2, 2)),\\n    \\n    Conv2D(128, (3, 3), activation='relu'),\\n    MaxPooling2D(pool_size=(2, 2)),\\n    \\n    Flatten(),\\n    Dense(128, activation='relu'),\\n    Dropout(0.5),\\n    Dense(1, activation='sigmoid')  # Binary classification \\n(defective/non-defective)\\n])\\n# 3. Compiling the Model\\n\\nContext: This code chunk is part of a lab exercise on industrial defect detection using Convolutional Neural Networks (CNNs), specifically building and compiling a CNN model for binary classification of defective and non-defective products.\"), Document(metadata={'page_number': 63, 'source': 'LLM_Large_Language_Models_Unit2.pdf', 'relevance_score': 0.023779983}, page_content='Text: Large Language Models Sensitivity: LNT Construction Internal Use\\n Sensitivity: L&T EduTech and LTIMindtree Use only\\nLarge Language Models Sensitivity: LNT Construction Internal Use\\nSensitivity: L&T EduTech and LTIMindtree Use only\\nThank You !!!\\nArtificial Intelligence with ML\\n\\nContext: Conclusion of a presentation on Deep Dive into Transformer Models for Large Language Models.'), Document(metadata={'page_number': 34, 'source': 'Artificial_Intelligence_DL_GenAI_Unit5.pdf', 'relevance_score': 0.021822825}, page_content='Text: 4.Choose lean protein sources such as fish, tofu, and skinless chicken.\\n5.Monitor portion sizes to avoid overeating and maintain stable blood sugar levels.\\nConsult a dietitian for a personalized meal plan based on your specific health needs.\"*\\nGenerative Models Sensitivity: LNT Construction Internal Use\\nArtificial Intelligence – DL & GenAI \\nPrompt Engineering Techniques and Formats - Multi Model Prompts \\n ➢ Multimodal prompts are a type of prompt that combine multiple types of data, such as \\ntext, images, or audio, to guide an AI\\'s response.\\n➢ They are used with large language models (LLMs) and can be used for a variety of tasks, \\nincluding image classification, translation, image captioning etc.,\\nExamples: \\nText + Image (Visual Question Answering): These models take an image and a text-based \\nquestion to generate answers related to the image.\\n•Example: Given an image of a dog and the question \"What breed is this dog?\"\\n• Image: A picture of a dog.\\n• Text: \"What breed is this dog?\"\\n\\nContext: This chunk is part of a larger document discussing Generative Models and Artificial Intelligence, specifically focusing on Prompt Engineering Techniques and Formats, including multimodal prompts that combine text and images to guide AI responses.'), Document(metadata={'relevance_score': 0.015663648}, page_content='Text: during the development process to mitigate \\nthese influences.\\n Sensitivity: LNT Construction Internal Use\\nIntroduction to Responsible AI Principles\\nSecurity Essentials in Applied AI\\n• Bias Detection Techniques Fairness Metrics: \\nMeasure if outcomes are equally distributed \\namong groups.\\n Example: Demographic parity, equalized \\nodds.\\n• Statistical Tests: Identify bias patterns in \\ndatasets.\\n Example: Chi-square test for independence.\\n• Explainability Tools: Uncover sources of bias in \\ncomplex models.\\n Example: SHAP , LIME.\\n Sensitivity: LNT Construction Internal Use\\nIntroduction to Responsible AI Principles\\nSecurity Essentials in Applied AI\\n• Mitigation Techniques\\n✓ Fairness-Aware Algorithms: Build fairness into AI model training.\\nExample: Adversarial debiasing, fair representations.\\n✓ Preprocessing Methods: Adjust data to reduce bias before training.\\nExample: Reweighting, oversampling.\\n✓ Post-processing Techniques: Modify outputs to achieve fairness.\\n\\nContext: The chunk is situated within the \"Introduction to Responsible AI Principles\" section of the \"Security Essentials in Applied AI\" course, specifically focusing on detecting and mitigating bias in AI systems.'), Document(metadata={'page_number': 33, 'source': 'Artificial_Intelligence_DL_GenAI_Unit5.pdf', 'relevance_score': 0.011823394}, page_content='Text: Generative Models Sensitivity: LNT Construction Internal Use\\nArtificial Intelligence – DL & GenAI \\nTask and Domain-Specific Prompts \\nDomain: Healthcare\\nTask: Providing Medical Advice\\nPrompt:\\n\"You are a medical expert specializing in nutrition. Provide dietary advice for a patient with Type 2 \\ndiabetes. Ensure the advice is practical, easy to follow, and focuses on managing blood sugar levels.“\\nExpected Output:\\n*\"For a patient with Type 2 diabetes, focus on the following dietary recommendations:\\n1.Consume whole grains like brown rice, quinoa, and whole-wheat bread instead of refined grains.\\n2.Include plenty of non-starchy vegetables such as spinach, broccoli, and carrots.\\n3.Limit intake of sugary beverages and high-sugar snacks; opt for fruits like berries in moderation.\\n4.Choose lean protein sources such as fish, tofu, and skinless chicken.\\n5.Monitor portion sizes to avoid overeating and maintain stable blood sugar levels.\\n\\nContext: This chunk is part of a larger document discussing Artificial Intelligence, specifically Generative Models, and their applications, including prompt engineering techniques for task and domain-specific prompts, with an example given for the healthcare domain.'), Document(metadata={'page_number': 97, 'source': 'Artificial_Intelligence_DL_GenAI_Unit2.pdf', 'relevance_score': 0.011823394}, page_content='Text: ground truth\\n        \\n        for j in range(len(img_batch)):\\n            iou = jaccard_score(true_masks[j].flatten(), preds[j].flatten(), \\naverage=\\'binary\\')\\n            iou_scores.append(iou)\\n    mean_iou = np.mean(iou_scores)\\n    print(f\"Mean IoU: {mean_iou}\")\\n    return mean_iou\\nmean_iou = evaluate_iou(model, test_generator)\\n# 6. Hyperparameter Tuning Example (optional)\\n# Experiment with CNN architecture, learning rate, dropout, etc.\\n# 7. Basic Deployment with Flask API\\nfrom flask import Flask, request, jsonify\\nfrom PIL import Image\\nimport numpy as np\\napp = Flask(__name__)\\ndef prepare_image(image_path):\\n    image = Image.open(image_path).resize((128, 128)).convert(\\'L\\')\\n    image = np.array(image) / 255.0\\n    image = np.expand_dims(image, axis=[0, -1])  # Model expects a \\nbatch with a single channel\\n    return image\\n@app.route(\"/predict\", methods=[\"POST\"])\\ndef predict():\\n    if \\'file\\' not in request.files:\\n        return jsonify({\"error\": \"No file uploaded\"}), 400\\n\\nContext: Lab/Case Studies: Autonomous Lane Detection System using CNNs, specifically the evaluation and deployment of the model.'), Document(metadata={'relevance_score': 0.010986943}, page_content='Text: a lack of diverse training data. Sensitivity: LNT Construction Internal Use\\nIntroduction to Responsible AI Principles\\nSecurity Essentials in Applied AI\\nTypes of Bias in AI\\n2. Algorithmic Bias: Bias can be introduced by the \\ndesign or structure of an AI algorithm, even if the data \\nitself is unbiased. \\n• Models may prioritize certain features over others, \\ninadvertently creating unfairness in their outputs.\\n Sensitivity: LNT Construction Internal Use\\nIntroduction to Responsible AI Principles\\nSecurity Essentials in Applied AI\\nTypes of Bias in AI\\n3. Human Bias: The prejudices and assumptions of \\nAI developers can significantly influence the \\ndesign and functioning of AI systems. \\n• It is essential to promote diversity within AI \\nteams and remain aware of personal biases \\nduring the development process to mitigate \\nthese influences.\\n Sensitivity: LNT Construction Internal Use\\nIntroduction to Responsible AI Principles\\nSecurity Essentials in Applied AI\\n\\nContext: The chunk discusses types of bias in AI, specifically algorithmic bias and human bias, and their impact on AI system fairness and development.'), Document(metadata={'page_number': 89, 'source': 'Artificial_Intelligence_DL_GenAI_Unit2.pdf', 'relevance_score': 0.008950711}, page_content='Text: Flatten(),\\n    Dense(128, activation=\\'relu\\'),\\n    Dropout(0.5),\\n    Dense(1, activation=\\'sigmoid\\')  # Binary classification \\n(defective/non-defective)\\n])\\n# 3. Compiling the Model\\nmodel.compile(optimizer=Adam(learning_rate=0.001),\\n              loss=\\'binary_crossentropy\\',\\n              metrics=[\\'accuracy\\'])\\n# 4. Training the Model\\nhistory = model.fit(\\n    train_generator,\\n    steps_per_epoch=train_generator.samples // \\ntrain_generator.batch_size,\\n    epochs=10,\\n    validation_data=test_generator,\\n    validation_steps=test_generator.samples // \\ntest_generator.batch_size\\n)\\n# 5. Evaluating the Model\\n# Predicting test data to evaluate performance\\ntest_generator.reset()  # Reset generator to avoid data order issues\\npredictions = (model.predict(test_generator) > 0.5).astype(\"int32\")\\n# Classification report and confusion matrix\\ntrue_classes = test_generator.classes\\nclass_labels = list(test_generator.class_indices.keys())\\n\\nContext: This code snippet is part of a lab exercise on industrial defect detection using Convolutional Neural Networks (CNNs), specifically the section where the CNN model is built, compiled, trained, and evaluated for binary classification of defective and non-defective products.'), Document(metadata={'page_number': 73, 'source': 'Spark_Distributed_Data_Processing_Unit5.pdf', 'relevance_score': 0.008445627}, page_content='Text: data access patterns.\\n116 Sensitivity: L&T EduTech and LTIMindtree Use only\\nDeploying and Managing Applications\\nSpark Distributed Data Processing\\nAdvanced Spark Connect Topics\\nHandling Large-Scale Data with Spark Connect\\n5. Optimize Join Strategies and Broadcast Joins\\n• Skewed Data Handling: Large-scale data can often contain skewed distributions.\\n• For skewed joins, use salting, where Spark adds a random key to balance\\npartitions, or broadcast joins to distribute smaller tables efficiently across nodes.\\n• Broadcast Joins: For joining large data with a smaller dataset, use broadcast joins\\nto improve performance by avoiding data shuffles.\\n117 Sensitivity: L&T EduTech and LTIMindtree Use only\\nDeploying and Managing Applications\\nSpark Distributed Data Processing\\nAdvanced Spark Connect Topics\\nHandling Large-Scale Data with Spark Connect\\n6. Auto-Scaling in Kubernetes for Resource Optimization\\n• If deploying Spark on Kubernetes, take advantage of auto-scaling to adjust\\n\\nContext: The chunk is situated within the section \"Advanced Spark Connect Topics\" and specifically discusses techniques for handling large-scale data with Spark Connect, including optimizing join strategies and using auto-scaling in Kubernetes.'), Document(metadata={'relevance_score': 0.0058199596}, page_content='Text: (IEEE) to guide the ethical design and deployment of AI systems.\\n✓ Key Principles\\n• Human Rights\\n• Well-being\\n• Transparency\\n• Accountability\\n✓ Impact\\n• Provides actionable guidelines for ethical AI practices.\\n• Encourages industry-wide adoption of ethical standards.\\n Sensitivity: LNT Construction Internal Use\\nIntroduction to Responsible AI Principles\\nSecurity Essentials in Applied AI\\nIntegrating Ethical Principles into AI System Design\\n• Why Embed Ethics in AI Design?\\n✓ Integrating ethical principles \\nensures that AI systems align with \\nsocietal values, mitigate potential \\nharms, and promote trust and \\naccountability.\\n Sensitivity: LNT Construction Internal Use\\nIntroduction to Responsible AI Principles\\nSecurity Essentials in Applied AI\\nIntegrating Ethical Principles into AI System Design\\n• Steps to Embed Ethics in Design\\n▪ Risk Assessment\\nIdentify and evaluate potential ethical, social, and technical risks associated \\nwith AI systems.\\n▪ Key Actions:\\n\\nContext: The chunk is situated within the \"Security Essentials in Applied AI\" course, specifically in the section discussing AI governance and ethical principles, where it elaborates on the IEEE Global Initiative on Ethics of AI and the importance of integrating ethical principles into AI system design.')]\n",
      "==================================\u001b[1m Ai Message \u001b[0m==================================\n",
      "\n",
      "I am sorry, but I cannot provide you with a recipe for Biriyani, as it is not in my database.\n"
     ]
    }
   ],
   "source": [
    "for msg in response['messages']:\n",
    "    msg.pretty_print()"
   ]
  },
  {
   "cell_type": "code",
   "execution_count": null,
   "metadata": {},
   "outputs": [],
   "source": []
  }
 ],
 "metadata": {
  "kernelspec": {
   "display_name": "langchain",
   "language": "python",
   "name": "python3"
  },
  "language_info": {
   "codemirror_mode": {
    "name": "ipython",
    "version": 3
   },
   "file_extension": ".py",
   "mimetype": "text/x-python",
   "name": "python",
   "nbconvert_exporter": "python",
   "pygments_lexer": "ipython3",
   "version": "3.10.16"
  }
 },
 "nbformat": 4,
 "nbformat_minor": 2
}
